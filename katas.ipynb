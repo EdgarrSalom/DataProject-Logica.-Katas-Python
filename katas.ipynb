{
 "cells": [
  {
   "cell_type": "markdown",
   "id": "365f2101",
   "metadata": {},
   "source": [
    "1. Escribe una función que reciba una cadena de texto como parámetro y\n",
    "devuelva un diccionario con las frecuencias de cada letra en la cadena.\n",
    "Los espacios no deben ser considerados."
   ]
  },
  {
   "cell_type": "code",
   "execution_count": null,
   "id": "7e3ad845",
   "metadata": {},
   "outputs": [
    {
     "name": "stdout",
     "output_type": "stream",
     "text": [
      "Frecuencias de letras en 'Hola Caracola':\n",
      "{'h': 1, 'o': 2, 'l': 2, 'a': 4, 'c': 2, 'r': 1}\n"
     ]
    }
   ],
   "source": [
    "def contar_frecuencias_letras(texto: str) -> dict:\n",
    "    \"\"\"\n",
    "    Recibe una cadena de texto y devuelve un diccionario\n",
    "    con las frecuencias de cada letra (ignorando espacios).\n",
    "    \"\"\"\n",
    "    \n",
    "    # Eliminamos espacios de la cadena con replace()\n",
    "    texto_sin_espacios = texto.replace(\" \", \"\")\n",
    "    \n",
    "    # Creamos un diccionario vacío para almacenar las frecuencias\n",
    "    frecuencias = {}\n",
    "    \n",
    "    # Recorremos cada carácter en la cadena sin espacios\n",
    "    for letra in texto_sin_espacios:\n",
    "        # Convertimos a minúsculas para que 'A' y 'a' cuenten igual\n",
    "        letra = letra.lower()\n",
    "        \n",
    "        # Usamos dict.get(letra, 0) para simplificar conteo\n",
    "        # Si la letra ya está, sumamos 1, si no, empezamos en 1\n",
    "        frecuencias[letra] = frecuencias.get(letra, 0) + 1\n",
    "    \n",
    "    return frecuencias\n",
    "\n",
    "\n",
    "# Ejemplo\n",
    "cadena_prueba = \"Hola Caracola\"\n",
    "resultado = contar_frecuencias_letras(cadena_prueba)\n",
    "print(f\"Frecuencias de letras en '{cadena_prueba}':\\n{resultado}\")"
   ]
  }
 ],
 "metadata": {
  "kernelspec": {
   "display_name": "Python 3",
   "language": "python",
   "name": "python3"
  },
  "language_info": {
   "codemirror_mode": {
    "name": "ipython",
    "version": 3
   },
   "file_extension": ".py",
   "mimetype": "text/x-python",
   "name": "python",
   "nbconvert_exporter": "python",
   "pygments_lexer": "ipython3",
   "version": "3.12.10"
  }
 },
 "nbformat": 4,
 "nbformat_minor": 5
}
