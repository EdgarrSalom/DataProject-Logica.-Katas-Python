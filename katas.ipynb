{
 "cells": [
  {
   "cell_type": "markdown",
   "id": "365f2101",
   "metadata": {},
   "source": [
    "1. Escribe una función que reciba una cadena de texto como parámetro y\n",
    "devuelva un diccionario con las frecuencias de cada letra en la cadena.\n",
    "Los espacios no deben ser considerados."
   ]
  },
  {
   "cell_type": "code",
   "execution_count": null,
   "id": "7e3ad845",
   "metadata": {},
   "outputs": [
    {
     "name": "stdout",
     "output_type": "stream",
     "text": [
      "Frecuencias de letras en 'Hola Caracola':\n",
      "{'h': 1, 'o': 2, 'l': 2, 'a': 4, 'c': 2, 'r': 1}\n"
     ]
    }
   ],
   "source": [
    "def contar_frecuencias_letras(texto: str) -> dict:\n",
    "    \"\"\"\n",
    "    Recibe una cadena de texto y devuelve un diccionario\n",
    "    con las frecuencias de cada letra (ignorando espacios).\n",
    "    \"\"\"\n",
    "    \n",
    "    # Eliminamos espacios de la cadena con replace()\n",
    "    texto_sin_espacios = texto.replace(\" \", \"\")\n",
    "    \n",
    "    # Creamos un diccionario vacío para almacenar las frecuencias\n",
    "    frecuencias = {}\n",
    "    \n",
    "    # Recorremos cada carácter en la cadena sin espacios\n",
    "    for letra in texto_sin_espacios:\n",
    "        # Convertimos a minúsculas para que 'A' y 'a' cuenten igual\n",
    "        letra = letra.lower()\n",
    "        \n",
    "        # Usamos dict.get(letra, 0) para simplificar conteo\n",
    "        # Si la letra ya está, sumamos 1, si no, empezamos en 1\n",
    "        frecuencias[letra] = frecuencias.get(letra, 0) + 1\n",
    "    \n",
    "    return frecuencias\n",
    "\n",
    "\n",
    "# Ejemplo\n",
    "cadena_prueba = \"Hola Caracola\"\n",
    "resultado = contar_frecuencias_letras(cadena_prueba)\n",
    "print(f\"Frecuencias de letras en '{cadena_prueba}':\\n{resultado}\")"
   ]
  },
  {
   "cell_type": "markdown",
   "id": "3d6a103a",
   "metadata": {},
   "source": [
    "2. Dada una lista de números, obtén una nueva lista con el doble de cada\n",
    "valor. Usa la función map()."
   ]
  },
  {
   "cell_type": "code",
   "execution_count": 1,
   "id": "eb529554",
   "metadata": {},
   "outputs": [
    {
     "name": "stdout",
     "output_type": "stream",
     "text": [
      "El doble de cada número de [1, 2, 3, 4] es: [2, 4, 6, 8]\n"
     ]
    }
   ],
   "source": [
    "def doble_lista_numeros(lista_numeros: list) -> list:\n",
    "    \"\"\"\n",
    "    Devuelve una nueva lista con el doble de cada número usando map().\n",
    "    \"\"\"\n",
    "    # Usamos map() para aplicar una función lambda que multiplica por 2\n",
    "    # a cada elemento de la lista.\n",
    "    # Convertimos el resultado de map en una lista con la función list().\n",
    "    nueva_lista = list(map(lambda x: x * 2, lista_numeros))\n",
    "    return nueva_lista\n",
    "\n",
    "# Ejemplo\n",
    "numeros = [1, 2, 3, 4]\n",
    "resultado = doble_lista_numeros(numeros)\n",
    "print(f\"El doble de cada número de {numeros} es: {resultado}\")"
   ]
  },
  {
   "cell_type": "markdown",
   "id": "43fc3644",
   "metadata": {},
   "source": [
    "3. Escribe una función que tome una lista de palabras y una palabra\n",
    "objetivo como parámetros. La función debe devolver una lista con todas\n",
    "las palabras de la lista original que contengan la palabra objetivo."
   ]
  },
  {
   "cell_type": "code",
   "execution_count": 6,
   "id": "7f982398",
   "metadata": {},
   "outputs": [
    {
     "name": "stdout",
     "output_type": "stream",
     "text": [
      "Palabras que contienen 'gat': ['gato', 'gatea', 'gatito']\n"
     ]
    }
   ],
   "source": [
    "def palabras_objetivo(lista_palabras: list, palabra_objetivo: str) -> list:\n",
    "    \"\"\"\n",
    "    Devuelve una lista de palabras que contienen la palabra objetivo.\n",
    "    \"\"\"\n",
    "    # Utilizamos una list comprehension para filtrar aquellas palabras\n",
    "    # de lista_palabras que incluyen la palabra_objetivo como subcadena.\n",
    "\n",
    "    resultado = [palabra for palabra in lista_palabras if palabra_objetivo in palabra]\n",
    "    # La condición 'if palabra_objetivo in palabra' busca si el string palabra_objetivo\n",
    "    # está dentro de cada palabra.\n",
    "    return resultado\n",
    "\n",
    "# Ejemplo\n",
    "lista = [\"gato\", \"gatea\", \"ratón\", \"garra\", \"gatito\"]\n",
    "objetivo = \"gat\"\n",
    "resultado = palabras_objetivo(lista, objetivo)\n",
    "print(f\"Palabras que contienen '{objetivo}': {resultado}\")"
   ]
  },
  {
   "cell_type": "markdown",
   "id": "64a211b1",
   "metadata": {},
   "source": [
    "4. Genera una función que calcule la diferencia entre los valores de dos\n",
    "listas. Usa la función map()."
   ]
  },
  {
   "cell_type": "code",
   "execution_count": 7,
   "id": "f6e80570",
   "metadata": {},
   "outputs": [
    {
     "name": "stdout",
     "output_type": "stream",
     "text": [
      "Diferencia elemento a elemento entre [10, 5, 3, 8] y [2, 1, 7, 4]: [8, 4, -4, 4]\n"
     ]
    }
   ],
   "source": [
    "def diferencia_listas(lista1: list, lista2: list) -> list:\n",
    "    \"\"\"\n",
    "    Devuelve una nueva lista con la diferencia entre cada elemento de las dos listas.\n",
    "    \"\"\"\n",
    "    resultado = list(map(lambda x, y: x - y, lista1, lista2))\n",
    "    return resultado\n",
    "\n",
    "# Ejemplo\n",
    "a = [10, 5, 3, 8]\n",
    "b = [2, 1, 7, 4]\n",
    "resultado = diferencia_listas(a, b)\n",
    "print(f\"Diferencia elemento a elemento entre {a} y {b}: {resultado}\")"
   ]
  },
  {
   "cell_type": "markdown",
   "id": "c4072a2f",
   "metadata": {},
   "source": [
    "5. Ecribe una función que tome una lista de números como parámetro y un\n",
    "valor opcional nota_aprobado, que por defecto es 5. La función debe\n",
    "calcular la media de los números en la lista y determinar si la media es\n",
    "mayor o igual que nota aprobado. Si es así, el estado será \"aprobado\",\n",
    "de lo contrario, será \"suspenso\". La función debe devolver una tupla\n",
    "que contenga la media y el estado."
   ]
  },
  {
   "cell_type": "code",
   "execution_count": 10,
   "id": "133bb26d",
   "metadata": {},
   "outputs": [
    {
     "name": "stdout",
     "output_type": "stream",
     "text": [
      "Media: 5.62, Estado: aprobado\n"
     ]
    }
   ],
   "source": [
    "def estado_media(lista_numeros: list, nota_aprobado: float = 5) -> tuple:\n",
    "    \"\"\"\n",
    "    Calcula la media de una lista y determina si está aprobado o suspenso.\n",
    "    Devuelve una tupla (media, estado).\n",
    "    \"\"\"\n",
    "    # Primero comprobamos que la lista no esté vacía para evitar división por cero.\n",
    "    if not lista_numeros:\n",
    "        raise ValueError(\"La lista de números no puede estar vacía.\")\n",
    "\n",
    "    # Calculamos la media sumando los elementos y dividiéndolo por la longitud de la lista.\n",
    "    media = sum(lista_numeros) / len(lista_numeros)\n",
    "\n",
    "    # Determinamos el estado en función del valor de nota_aprobado.\n",
    "    if media >= nota_aprobado:\n",
    "        estado = \"aprobado\"\n",
    "    else:\n",
    "        estado = \"suspenso\"\n",
    "\n",
    "    return (media, estado)\n",
    "\n",
    "# Ejemplo\n",
    "notas = [4, 5.5, 6, 7]\n",
    "media, estado = estado_media(notas)\n",
    "print(f\"Media: {media:.2f}, Estado: {estado}\")"
   ]
  },
  {
   "cell_type": "markdown",
   "id": "21971937",
   "metadata": {},
   "source": [
    "6. Escribe una función que calcule el factorial de un número de manera\n",
    "recursiva."
   ]
  },
  {
   "cell_type": "code",
   "execution_count": 14,
   "id": "ea2d0cf9",
   "metadata": {},
   "outputs": [
    {
     "name": "stdout",
     "output_type": "stream",
     "text": [
      "El factorial de 5 es: 120\n"
     ]
    }
   ],
   "source": [
    "def factorial(n: int) -> int:\n",
    "    \"\"\"\n",
    "    Calcula el factorial de un número usando recursividad.\n",
    "    \"\"\"\n",
    "    # Validamos que n sea un entero no negativo.\n",
    "    if not isinstance(n, int) or n < 0:\n",
    "        raise ValueError(\"El número debe ser un entero no negativo.\")\n",
    "\n",
    "    # Caso base: el factorial de 0 es 1. Para evitar recursividad infinita.\n",
    "    if n == 0:\n",
    "        return 1\n",
    "\n",
    "    # Llamada recursiva: n * factorial(n-1)\n",
    "    return n * factorial(n - 1)\n",
    "\n",
    "# Ejemplo\n",
    "num = 5\n",
    "print(f\"El factorial de {num} es: {factorial(num)}\")"
   ]
  },
  {
   "cell_type": "markdown",
   "id": "4437d6e6",
   "metadata": {},
   "source": [
    "7. Genera una función que convierta una lista de tuplas a una lista de\n",
    "strings. Usa la función map()"
   ]
  },
  {
   "cell_type": "code",
   "execution_count": 16,
   "id": "c2a84995",
   "metadata": {},
   "outputs": [
    {
     "name": "stdout",
     "output_type": "stream",
     "text": [
      "Lista original de tuplas: [(1, 2), ('a', 'b'), (3, 'c', 4)]\n",
      "Lista convertida a strings: ['12', 'ab', '3c4']\n"
     ]
    }
   ],
   "source": [
    "def concatenate(tpl: tuple) -> str:\n",
    "    \"\"\"\n",
    "    Función que concatena todos los elementos de una tupla en un string.\n",
    "    Convierte cada elemento a string antes de unirlos.\n",
    "    \"\"\"\n",
    "    # Inicializamos string vacío\n",
    "    resultado = ''\n",
    "    for elemento in tpl:\n",
    "        resultado += str(elemento)  # concatenamos cada elemento convertido a string\n",
    "    return resultado\n",
    "\n",
    "def tuplas_a_strings(lista_tuplas: list) -> list:\n",
    "    \"\"\"\n",
    "    Convierte una lista de tuplas en una lista de strings,\n",
    "    usando la función concatenate con map para la transformación.\n",
    "    \"\"\"\n",
    "    resultado = list(map(concatenate, lista_tuplas))\n",
    "    return resultado\n",
    "\n",
    "# Ejemplo\n",
    "tuplas = [(1, 2), ('a', 'b'), (3, 'c', 4)]\n",
    "resultado = tuplas_a_strings(tuplas)\n",
    "print(f\"Lista original de tuplas: {tuplas}\")\n",
    "print(f\"Lista convertida a strings: {resultado}\")"
   ]
  },
  {
   "cell_type": "markdown",
   "id": "e4e6a1d9",
   "metadata": {},
   "source": [
    "8. Escribe un programa que pida al usuario dos números e intente\n",
    "dividirlos. Si el usuario ingresa un valor no numérico o intenta dividir por\n",
    "cero, maneja esas excepciones de manera adecuada. Asegúrate de\n",
    "mostrar un mensaje indicando si la división fue exitosa o no."
   ]
  },
  {
   "cell_type": "code",
   "execution_count": null,
   "id": "d48c1144",
   "metadata": {},
   "outputs": [],
   "source": [
    "def division_interactiva():\n",
    "    \"\"\"\n",
    "    Permite al usuario ingresar dos números e intenta dividirlos.\n",
    "    El programa termina cuando el usuario escribe 'salir'.\n",
    "    \"\"\"\n",
    "    print(\"Programa de división. Escribe 'salir' para finalizar.\")\n",
    "\n",
    "    while True:\n",
    "        entrada1 = input(\"Introduce el primer número (o 'salir' para acabar): \")\n",
    "        if entrada1.lower() == 'salir':\n",
    "            print(\"Programa finalizado por el usuario.\")\n",
    "            break\n",
    "\n",
    "        entrada2 = input(\"Introduce el segundo número (o 'salir' para acabar): \")\n",
    "        if entrada2.lower() == 'salir':\n",
    "            print(\"Programa finalizado por el usuario.\")\n",
    "            break\n",
    "\n",
    "        try:\n",
    "            num1 = float(entrada1)\n",
    "            num2 = float(entrada2)\n",
    "            # Intentamos realizar la división\n",
    "            resultado = num1 / num2\n",
    "\n",
    "        except ValueError:\n",
    "            # Captura errores si la conversión a float falla (entrada no numérica)\n",
    "            print(\"Error: Debes ingresar valores numéricos válidos.\")\n",
    "            continue\n",
    "\n",
    "        except ZeroDivisionError:\n",
    "            # Captura errores si se intenta dividir por cero\n",
    "            print(\"Error: No se puede dividir por cero.\")\n",
    "            continue\n",
    "\n",
    "        else:\n",
    "            # Si no hubo excepciones, la división fue exitosa\n",
    "            print(f\"División exitosa, el resultado es: {resultado}\")\n",
    "\n",
    "        print(\"Puedes hacer otra división o escribir 'salir' para acabar.\\n\")\n",
    "\n",
    "# Descomentar la siguiente línea para ejecutar el programa:\n",
    "# division_interactiva()\n"
   ]
  },
  {
   "cell_type": "markdown",
   "id": "3cefea91",
   "metadata": {},
   "source": [
    "9. Escribe una función que tome una lista de nombres de mascotas como\n",
    "parámetro y devuelva una nueva lista excluyendo ciertas mascotas\n",
    "prohibidas en España. La lista de mascotas a excluir es [\"Mapache\",\n",
    "\"Tigre\", \"Serpiente Pitón\", \"Cocodrilo\", \"Oso\"].Usa la función filter()."
   ]
  },
  {
   "cell_type": "code",
   "execution_count": 3,
   "id": "b7a3c14e",
   "metadata": {},
   "outputs": [
    {
     "name": "stdout",
     "output_type": "stream",
     "text": [
      "Lista filtrada de mascotas permitidas: ['Perro', 'Gato', 'Loro', 'Conejo']\n"
     ]
    }
   ],
   "source": [
    "def filtrar_mascotas(mascotas: list) -> list:\n",
    "    \"\"\"\n",
    "    Devuelve una lista excluyendo las mascotas prohibidas usando filter().\n",
    "    \"\"\"\n",
    "    mascotas_prohibidas = [\"Mapache\", \"Tigre\", \"Serpiente Pitón\", \"Cocodrilo\", \"Oso\"]\n",
    "\n",
    "    # Usamos filter con una función lambda que devuelve solo las mascotas\n",
    "    # que no estén en la lista de mascotas prohibidas.\n",
    "    resultado = list(filter(lambda mascota: mascota not in mascotas_prohibidas, mascotas))\n",
    "    return resultado\n",
    "\n",
    "# Ejemplo\n",
    "lista_mascotas = [\"Perro\", \"Gato\", \"Mapache\", \"Loro\", \"Oso\", \"Conejo\"]\n",
    "resultado = filtrar_mascotas(lista_mascotas)\n",
    "print(f\"Lista filtrada de mascotas permitidas: {resultado}\")"
   ]
  },
  {
   "cell_type": "markdown",
   "id": "13705063",
   "metadata": {},
   "source": [
    "10. Escribe una función que reciba una lista de números y calcule su\n",
    "promedio. Si la lista está vacía, lanza una excepción personalizada y\n",
    "maneja el error adecuadamente."
   ]
  },
  {
   "cell_type": "code",
   "execution_count": 12,
   "id": "04633dd4",
   "metadata": {},
   "outputs": [
    {
     "name": "stdout",
     "output_type": "stream",
     "text": [
      "El promedio de la lista [10, 15, 20] es: 15.00.\n",
      "\n",
      "Comprobamos manejo del eror de la lista vacía:[]\n",
      "Error: La lista está vacía, no se puede calcular el promedio.\n"
     ]
    }
   ],
   "source": [
    "def calcular_promedio(lista_numeros: list) -> float:\n",
    "    \"\"\"\n",
    "    Calcula el promedio de una lista de números.\n",
    "    Manejando el error si la lista está vacía.\n",
    "    \"\"\"\n",
    "    try:\n",
    "        # Intentamos calcular la media\n",
    "        promedio = sum(lista_numeros) / len(lista_numeros)\n",
    "    except ZeroDivisionError:\n",
    "        # Capturamos el error si la lista está vacía (len=0)\n",
    "        print(\"Error: La lista está vacía, no se puede calcular el promedio.\")\n",
    "        return None\n",
    "    else:\n",
    "        # Si no hay error, devolvemos el promedio\n",
    "        return promedio\n",
    "\n",
    "# Ejemplos\n",
    "\n",
    "lista1 = [10, 15, 20]\n",
    "promedio1 = calcular_promedio(lista1)\n",
    "if promedio1 is not None:\n",
    "    print(f\"El promedio de la lista {lista1} es: {promedio1:.2f}.\\n\")\n",
    "\n",
    "lista_vacia = []\n",
    "print('Comprobamos manejo del eror de la lista vacía:' f\"{lista_vacia}\")\n",
    "promedio2 = calcular_promedio(lista_vacia)\n",
    "if promedio2 is not None:\n",
    "    print(f\"Promedio: {promedio2:.2f}\")"
   ]
  },
  {
   "cell_type": "markdown",
   "id": "30a33454",
   "metadata": {},
   "source": [
    "11. Escribe un programa que pida al usuario que introduzca su edad. Si el\n",
    "usuario ingresa un valor no numérico o un valor fuera del rango\n",
    "esperado (por ejemplo, menor que 0 o mayor que 120), maneja las\n",
    "excepciones adecuadamente."
   ]
  },
  {
   "cell_type": "code",
   "execution_count": null,
   "id": "15f02b16",
   "metadata": {},
   "outputs": [],
   "source": [
    "def solicitar_edad():\n",
    "    \"\"\"\n",
    "    Solicita la edad al usuario y valida la entrada Numérica y rango.\n",
    "    \"\"\"\n",
    "    while True:\n",
    "        entrada = input(\"Introduce tu edad: \")\n",
    "        try:\n",
    "            edad = int(entrada)\n",
    "            if edad < 0 or edad > 120:\n",
    "                raise ValueError(\"La edad debe estar entre 0 y 120.\")\n",
    "        except ValueError as e:\n",
    "            print(f\"Error: {e}. Por favor, intenta de nuevo.\")\n",
    "        else:\n",
    "            print(f\"Edad válida: {edad}\")\n",
    "            return edad\n",
    "       \n",
    "# Descomentar la siguiente línea para ejecutar el programa:\n",
    "#solicitar_edad()"
   ]
  },
  {
   "cell_type": "markdown",
   "id": "ff36572f",
   "metadata": {},
   "source": [
    "12. Genera una función que al recibir una frase devuelva una lista con la\n",
    "longitud de cada palabra. Usa la función map()."
   ]
  },
  {
   "cell_type": "code",
   "execution_count": 2,
   "id": "94233426",
   "metadata": {},
   "outputs": [
    {
     "name": "stdout",
     "output_type": "stream",
     "text": [
      "Longitudes de las palabras en la frase: [4, 2, 2, 5, 2, 7]\n"
     ]
    }
   ],
   "source": [
    "def longitudes_palabras(frase: str) -> list:\n",
    "    \"\"\"\n",
    "    Recibe una frase y devuelve una lista con la longitud de cada palabra.\n",
    "    \"\"\"\n",
    "    # Primero dividimos la frase en palabras usando split(), que devuelve una lista de palabras.\n",
    "    palabras = frase.split()\n",
    "    # Usamos map() para aplicar len a cada palabra y convertimos el resultado a lista\n",
    "    longitudes = list(map(len, palabras)) #map(len, palabras) aplica la función len a cada palabra de la lista.\n",
    "    return longitudes\n",
    "\n",
    "# Ejemplo\n",
    "frase_ejemplo = \"Esto es la frase de ejemplo\"\n",
    "resultado = longitudes_palabras(frase_ejemplo)\n",
    "print(f\"Longitudes de las palabras en la frase: {resultado}\")"
   ]
  }
 ],
 "metadata": {
  "kernelspec": {
   "display_name": "Python 3",
   "language": "python",
   "name": "python3"
  },
  "language_info": {
   "codemirror_mode": {
    "name": "ipython",
    "version": 3
   },
   "file_extension": ".py",
   "mimetype": "text/x-python",
   "name": "python",
   "nbconvert_exporter": "python",
   "pygments_lexer": "ipython3",
   "version": "3.12.10"
  }
 },
 "nbformat": 4,
 "nbformat_minor": 5
}
